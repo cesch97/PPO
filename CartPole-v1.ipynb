{
 "cells": [
  {
   "cell_type": "code",
   "execution_count": 1,
   "metadata": {},
   "outputs": [],
   "source": [
    "import gym\n",
    "from PPO.PPO import PPO\n",
    "from PPO.PPO import run_test_env"
   ]
  },
  {
   "cell_type": "code",
   "execution_count": 2,
   "metadata": {},
   "outputs": [],
   "source": [
    "# HYPER-PARAMETERS #\n",
    "max_frames       = int(1e6)\n",
    "max_rewards      = 500\n",
    "num_steps        = 32\n",
    "num_envs         = 16\n",
    "batch_size       = 64\n",
    "ppo_epochs       = 8\n",
    "lr               = 'lin_5e-4'\n",
    "clip_range       = 0.1\n",
    "vf_coef          = 0.5\n",
    "ent_coef         = 0.01\n",
    "gamma            = 0.99\n",
    "lam              = 0.8\n",
    "clip_grad_norm   = 0.5\n",
    "std_decay        = False\n",
    "clip_log_std     = None\n",
    "log_every        = 10\n",
    "runs_for_episode = 1\n",
    "test_episodes    = 10\n",
    "log_file         = './logs/CartPole-v1.pth'"
   ]
  },
  {
   "cell_type": "code",
   "execution_count": 3,
   "metadata": {},
   "outputs": [],
   "source": [
    "def make_env():\n",
    "    def _thunk():\n",
    "        env = gym.make('CartPole-v1')\n",
    "        return env\n",
    "    return _thunk\n",
    "\n",
    "def make_test_env():\n",
    "    return None"
   ]
  },
  {
   "cell_type": "code",
   "execution_count": 4,
   "metadata": {},
   "outputs": [],
   "source": [
    "ppo = PPO(make_env, device='auto')"
   ]
  },
  {
   "cell_type": "code",
   "execution_count": null,
   "metadata": {},
   "outputs": [],
   "source": [
    "# Run this cell to load a previous checkpoint\n",
    "ppo.load(log_file)"
   ]
  },
  {
   "cell_type": "code",
   "execution_count": 5,
   "metadata": {},
   "outputs": [
    {
     "data": {
      "text/plain": [
       "<Figure size 432x288 with 0 Axes>"
      ]
     },
     "metadata": {},
     "output_type": "display_data"
    },
    {
     "data": {
      "image/png": "[encoded data removed]",
      "text/plain": [
       "<Figure size 432x288 with 2 Axes>"
      ]
     },
     "metadata": {
      "needs_background": "light"
     },
     "output_type": "display_data"
    },
    {
     "name": "stdout",
     "output_type": "stream",
     "text": [
      "frames     : 81408\n",
      "time       : 1\n",
      "fps        : 870\n",
      "reward     : 500.00\n",
      "lr         : 0.000459\n",
      "loss       : -0.300\n",
      "critic_loss: 0.078\n",
      "actor_loss : -0.372\n",
      "clip_range : 0.100\n",
      "vf_coef    : 0.500\n",
      "> Max reward target reached!\n"
     ]
    }
   ],
   "source": [
    "ppo.learn(max_frames, max_rewards=max_rewards, num_steps=num_steps, num_envs=num_envs, batch_size=batch_size,\n",
    "          ppo_epochs=ppo_epochs, clip_range=clip_range, lr=lr, vf_coef=vf_coef, ent_coef=ent_coef,\n",
    "          gamma=gamma, lam=lam, clip_grad_norm=clip_grad_norm, std_decay=std_decay, clip_log_std=clip_log_std,\n",
    "          log_every=log_every, log_file=log_file, test_env=make_test_env(),runs_for_episode=runs_for_episode, test_episodes=test_episodes)"
   ]
  },
  {
   "cell_type": "code",
   "execution_count": 6,
   "metadata": {},
   "outputs": [],
   "source": [
    "del ppo"
   ]
  },
  {
   "cell_type": "code",
   "execution_count": 7,
   "metadata": {},
   "outputs": [],
   "source": [
    "ppo = PPO(make_env, device='cpu')"
   ]
  },
  {
   "cell_type": "code",
   "execution_count": 8,
   "metadata": {},
   "outputs": [],
   "source": [
    "ppo.load(log_file)"
   ]
  },
  {
   "cell_type": "code",
   "execution_count": 9,
   "metadata": {},
   "outputs": [
    {
     "name": "stdout",
     "output_type": "stream",
     "text": [
      "Mean reward over 5 episodes = 470.400000\n"
     ]
    }
   ],
   "source": [
    "env = make_env()()\n",
    "runs_for_episode = 1\n",
    "n_episode = 5\n",
    "\n",
    "mean_reward = run_test_env(env=env, model=ppo, runs_for_episode=runs_for_episode, n_episodes=n_episode, vis=True, deterministic=False)\n",
    "env.close()\n",
    "\n",
    "print('Mean reward over %i episodes = %f' % (n_episode, mean_reward))"
   ]
  },
  {
   "cell_type": "code",
   "execution_count": null,
   "metadata": {},
   "outputs": [],
   "source": []
  }
 ],
 "metadata": {
  "kernelspec": {
   "display_name": "Python 3",
   "language": "python",
   "name": "python3"
  },
  "language_info": {
   "codemirror_mode": {
    "name": "ipython",
    "version": 3
   },
   "file_extension": ".py",
   "mimetype": "text/x-python",
   "name": "python",
   "nbconvert_exporter": "python",
   "pygments_lexer": "ipython3",
   "version": "3.8.3"
  }
 },
 "nbformat": 4,
 "nbformat_minor": 4
}
