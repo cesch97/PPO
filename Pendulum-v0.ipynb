{
 "cells": [
  {
   "cell_type": "code",
   "execution_count": 1,
   "metadata": {},
   "outputs": [],
   "source": [
    "import gym\n",
    "from PPO.PPO import PPO\n",
    "from PPO.PPO import run_test_env"
   ]
  },
  {
   "cell_type": "code",
   "execution_count": 2,
   "metadata": {},
   "outputs": [],
   "source": [
    "# HYPER-PARAMETERS #\n",
    "max_frames       = int(2e6) * 8\n",
    "max_rewards      = -100\n",
    "num_steps        = 2048\n",
    "num_envs         = 8\n",
    "batch_size       = 512\n",
    "ppo_epochs       = 10\n",
    "clip_range       = 0.2\n",
    "lr               = 3e-4\n",
    "vf_coef          = 0.5\n",
    "ent_coef         = 0.0\n",
    "gamma            = 0.99\n",
    "lam              = 0.95\n",
    "log_every        = 10\n",
    "runs_for_episode = 5\n",
    "test_episodes    = 10\n",
    "log_file         = './logs/Pendulum-v0.pth'"
   ]
  },
  {
   "cell_type": "code",
   "execution_count": 3,
   "metadata": {},
   "outputs": [],
   "source": [
    "def make_env():\n",
    "    def _thunk():\n",
    "        env = gym.make('Pendulum-v0')\n",
    "        return env\n",
    "    return _thunk\n",
    "\n",
    "\n",
    "def make_test_env():\n",
    "    return None"
   ]
  },
  {
   "cell_type": "code",
   "execution_count": 4,
   "metadata": {},
   "outputs": [],
   "source": [
    "ppo = PPO(make_env, device='auto')"
   ]
  },
  {
   "cell_type": "code",
   "execution_count": null,
   "metadata": {},
   "outputs": [],
   "source": [
    "# Run this cell to load a previous checkpoint\n",
    "ppo.load(log_file)"
   ]
  },
  {
   "cell_type": "code",
   "execution_count": null,
   "metadata": {},
   "outputs": [
    {
     "data": {
      "text/plain": [
       "<Figure size 432x288 with 0 Axes>"
      ]
     },
     "metadata": {},
     "output_type": "display_data"
    },
    {
     "data": {
      "image/png": "[encoded data removed]",
      "text/plain": [
       "<Figure size 432x288 with 1 Axes>"
      ]
     },
     "metadata": {
      "needs_background": "light"
     },
     "output_type": "display_data"
    },
    {
     "name": "stdout",
     "output_type": "stream",
     "text": [
      "Saved -> frames: 7192577, time: 112 (min)\n"
     ]
    }
   ],
   "source": [
    "ppo.learn(max_frames, max_rewards=max_rewards, num_steps=num_steps, num_envs=num_envs, batch_size=batch_size,\n",
    "          ppo_epochs=ppo_epochs, clip_range=clip_range, lr=lr, vf_coef=vf_coef, ent_coef=ent_coef, gamma=gamma, lam=lam,\n",
    "          log_every=log_every, plot=True, save=True, log_file=log_file, test_env=make_test_env(), runs_for_episode=runs_for_episode, test_episodes=test_episodes)"
   ]
  },
  {
   "cell_type": "code",
   "execution_count": null,
   "metadata": {},
   "outputs": [],
   "source": [
    "del ppo"
   ]
  },
  {
   "cell_type": "code",
   "execution_count": null,
   "metadata": {},
   "outputs": [],
   "source": [
    "ppo = PPO(make_env, device='cpu')"
   ]
  },
  {
   "cell_type": "code",
   "execution_count": null,
   "metadata": {},
   "outputs": [],
   "source": [
    "ppo.load(log_file)"
   ]
  },
  {
   "cell_type": "code",
   "execution_count": null,
   "metadata": {},
   "outputs": [],
   "source": [
    "env = make_env()()\n",
    "n_episode = 3\n",
    "\n",
    "mean_reward = run_test_env(env=env, model=ppo, n_runs=n_episode, vis=True, deterministic=False)\n",
    "env.close()\n",
    "\n",
    "print('Mean reward over %i episodes = %f' % (n_episode, mean_reward))"
   ]
  },
  {
   "cell_type": "code",
   "execution_count": null,
   "metadata": {},
   "outputs": [],
   "source": []
  }
 ],
 "metadata": {
  "kernelspec": {
   "display_name": "Python 3",
   "language": "python",
   "name": "python3"
  },
  "language_info": {
   "codemirror_mode": {
    "name": "ipython",
    "version": 3
   },
   "file_extension": ".py",
   "mimetype": "text/x-python",
   "name": "python",
   "nbconvert_exporter": "python",
   "pygments_lexer": "ipython3",
   "version": "3.7.7"
  }
 },
 "nbformat": 4,
 "nbformat_minor": 4
}
